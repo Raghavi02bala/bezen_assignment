{
  "nbformat": 4,
  "nbformat_minor": 0,
  "metadata": {
    "colab": {
      "provenance": [],
      "collapsed_sections": []
    },
    "kernelspec": {
      "name": "python3",
      "display_name": "Python 3"
    },
    "language_info": {
      "name": "python"
    }
  },
  "cells": [
    {
      "cell_type": "code",
      "execution_count": null,
      "metadata": {
        "colab": {
          "base_uri": "https://localhost:8080/"
        },
        "id": "obf2DD2ynDZd",
        "outputId": "4a2a93ad-5292-4d2e-b6d2-3636952148eb"
      },
      "outputs": [
        {
          "output_type": "stream",
          "name": "stdout",
          "text": [
            "Looking in indexes: https://pypi.org/simple, https://us-python.pkg.dev/colab-wheels/public/simple/\n",
            "Requirement already satisfied: gdown in /usr/local/lib/python3.7/dist-packages (4.4.0)\n",
            "Requirement already satisfied: beautifulsoup4 in /usr/local/lib/python3.7/dist-packages (from gdown) (4.6.3)\n",
            "Requirement already satisfied: filelock in /usr/local/lib/python3.7/dist-packages (from gdown) (3.8.0)\n",
            "Requirement already satisfied: requests[socks] in /usr/local/lib/python3.7/dist-packages (from gdown) (2.23.0)\n",
            "Requirement already satisfied: tqdm in /usr/local/lib/python3.7/dist-packages (from gdown) (4.64.1)\n",
            "Requirement already satisfied: six in /usr/local/lib/python3.7/dist-packages (from gdown) (1.15.0)\n",
            "Requirement already satisfied: certifi>=2017.4.17 in /usr/local/lib/python3.7/dist-packages (from requests[socks]->gdown) (2022.9.24)\n",
            "Requirement already satisfied: idna<3,>=2.5 in /usr/local/lib/python3.7/dist-packages (from requests[socks]->gdown) (2.10)\n",
            "Requirement already satisfied: chardet<4,>=3.0.2 in /usr/local/lib/python3.7/dist-packages (from requests[socks]->gdown) (3.0.4)\n",
            "Requirement already satisfied: urllib3!=1.25.0,!=1.25.1,<1.26,>=1.21.1 in /usr/local/lib/python3.7/dist-packages (from requests[socks]->gdown) (1.24.3)\n",
            "Requirement already satisfied: PySocks!=1.5.7,>=1.5.6 in /usr/local/lib/python3.7/dist-packages (from requests[socks]->gdown) (1.7.1)\n"
          ]
        }
      ],
      "source": [
        "!sudo pip3 install gdown"
      ]
    },
    {
      "cell_type": "code",
      "source": [
        "import gdown\n",
        "import pandas as pd\n",
        "import numpy as np"
      ],
      "metadata": {
        "id": "Y5UDNQKwhIhC"
      },
      "execution_count": null,
      "outputs": []
    },
    {
      "cell_type": "code",
      "source": [
        "url = \"https://drive.google.com/file/d/1AVg8ENuzzvmBWhzFRUgT1os7E8IO78Tq/view?usp=sharing\"\n",
        "output = 'test.rar'\n",
        "gdown.download(url=url, output=output, quiet=False, fuzzy=True)"
      ],
      "metadata": {
        "colab": {
          "base_uri": "https://localhost:8080/",
          "height": 105
        },
        "id": "ez18k8lsp4B1",
        "outputId": "0a14cd2a-471b-458f-9269-0c7744ffa250"
      },
      "execution_count": null,
      "outputs": [
        {
          "output_type": "stream",
          "name": "stderr",
          "text": [
            "Downloading...\n",
            "From: https://drive.google.com/uc?id=1AVg8ENuzzvmBWhzFRUgT1os7E8IO78Tq\n",
            "To: /content/test.rar\n",
            "100%|██████████| 44.0M/44.0M [00:00<00:00, 58.1MB/s]\n"
          ]
        },
        {
          "output_type": "execute_result",
          "data": {
            "text/plain": [
              "'test.rar'"
            ],
            "application/vnd.google.colaboratory.intrinsic+json": {
              "type": "string"
            }
          },
          "metadata": {},
          "execution_count": 4
        }
      ]
    },
    {
      "cell_type": "code",
      "source": [
        "!sudo pip3 install rarfile"
      ],
      "metadata": {
        "colab": {
          "base_uri": "https://localhost:8080/"
        },
        "id": "P6lZYMhzqOKT",
        "outputId": "25dafb2b-02e8-49b6-d90a-b06f33875f1b"
      },
      "execution_count": null,
      "outputs": [
        {
          "output_type": "stream",
          "name": "stdout",
          "text": [
            "Looking in indexes: https://pypi.org/simple, https://us-python.pkg.dev/colab-wheels/public/simple/\n",
            "Collecting rarfile\n",
            "  Downloading rarfile-4.0-py3-none-any.whl (28 kB)\n",
            "Installing collected packages: rarfile\n",
            "Successfully installed rarfile-4.0\n"
          ]
        }
      ]
    },
    {
      "cell_type": "code",
      "source": [
        "from rarfile import RarFile\n",
        "\n",
        "with RarFile(\"/content/test.rar\") as file:\n",
        "    file.extractall()"
      ],
      "metadata": {
        "id": "XlChFwrtqw1k"
      },
      "execution_count": null,
      "outputs": []
    },
    {
      "cell_type": "code",
      "source": [
        "data = pd.read_csv('/content/2022_02_08-02_30_31_AM.csv')"
      ],
      "metadata": {
        "id": "4fLZSmXMoFMe"
      },
      "execution_count": null,
      "outputs": []
    },
    {
      "cell_type": "markdown",
      "source": [
        "Basic Inspection of data"
      ],
      "metadata": {
        "id": "VJr_ozY4rxNk"
      }
    },
    {
      "cell_type": "code",
      "source": [
        "data.columns"
      ],
      "metadata": {
        "colab": {
          "base_uri": "https://localhost:8080/"
        },
        "id": "qhyfJScsoNO9",
        "outputId": "16f6c87d-5b37-430f-eb1e-0a0467ab1b69"
      },
      "execution_count": null,
      "outputs": [
        {
          "output_type": "execute_result",
          "data": {
            "text/plain": [
              "Index(['uuid', 'price_string', 'price_string_unf', 'product_type', 'level_1',\n",
              "       'category'],\n",
              "      dtype='object')"
            ]
          },
          "metadata": {},
          "execution_count": 7
        }
      ]
    },
    {
      "cell_type": "code",
      "source": [
        "data.shape[0]"
      ],
      "metadata": {
        "colab": {
          "base_uri": "https://localhost:8080/"
        },
        "id": "19qKwy5OqMEJ",
        "outputId": "bff0d05c-9d18-4208-96d8-3a86579424e5"
      },
      "execution_count": null,
      "outputs": [
        {
          "output_type": "execute_result",
          "data": {
            "text/plain": [
              "13730000"
            ]
          },
          "metadata": {},
          "execution_count": 8
        }
      ]
    },
    {
      "cell_type": "code",
      "source": [
        "data.info()"
      ],
      "metadata": {
        "colab": {
          "base_uri": "https://localhost:8080/"
        },
        "id": "plfbn4XbrR03",
        "outputId": "4a7681e2-2403-420f-ba4e-fe87761492c7"
      },
      "execution_count": null,
      "outputs": [
        {
          "output_type": "stream",
          "name": "stdout",
          "text": [
            "<class 'pandas.core.frame.DataFrame'>\n",
            "RangeIndex: 13730000 entries, 0 to 13729999\n",
            "Data columns (total 6 columns):\n",
            " #   Column            Dtype \n",
            "---  ------            ----- \n",
            " 0   uuid              object\n",
            " 1   price_string      object\n",
            " 2   price_string_unf  object\n",
            " 3   product_type      object\n",
            " 4   level_1           object\n",
            " 5   category          object\n",
            "dtypes: object(6)\n",
            "memory usage: 628.5+ MB\n"
          ]
        }
      ]
    },
    {
      "cell_type": "markdown",
      "source": [
        "1. Products without prices "
      ],
      "metadata": {
        "id": "PbS6Yoorr3J2"
      }
    },
    {
      "cell_type": "markdown",
      "source": [
        "These are the products without prices."
      ],
      "metadata": {
        "id": "h6wcE6bA8k25"
      }
    },
    {
      "cell_type": "code",
      "source": [
        "data[data['price_string'].isna()]"
      ],
      "metadata": {
        "colab": {
          "base_uri": "https://localhost:8080/",
          "height": 991
        },
        "id": "fB_zdyP2qXFY",
        "outputId": "8a238450-1dac-4b74-ced6-d5099689f9b1"
      },
      "execution_count": null,
      "outputs": [
        {
          "output_type": "execute_result",
          "data": {
            "text/plain": [
              "                                          uuid price_string price_string_unf  \\\n",
              "0         638744a4-b0ae-4166-8cb6-5c063c862036          NaN              NaN   \n",
              "1         ab313969-02cc-48b2-9daf-0054efb70b92          NaN              NaN   \n",
              "5         389d9f75-cc3f-4bd2-94f7-93e381a3bed5          NaN              NaN   \n",
              "13        1f2766ec-0a27-43f8-b28b-77a44492ead1          NaN              NaN   \n",
              "16        7bad39f5-74b9-4611-afb9-46fb135190cd          NaN              NaN   \n",
              "...                                        ...          ...              ...   \n",
              "13729992  8d763911-79b7-402d-8964-6bfe89692c66          NaN              NaN   \n",
              "13729993  2dc182aa-d591-49e4-85d1-5c4a60a09664          NaN              NaN   \n",
              "13729995  2a13338e-9268-4f7b-9e7c-b8c41c72971b          NaN              NaN   \n",
              "13729997  679f073a-862a-4e43-b5ce-41e45afd3bfa          NaN              NaN   \n",
              "13729998  25677eee-c26b-4abf-bd10-ca77a800ba26          NaN              NaN   \n",
              "\n",
              "                                 product_type  \\\n",
              "0                    TGFwdG9wIENvdmVycy9CYWdz   \n",
              "1                 QmFraW5nIEN1cHMgYW5kIE1hdHM   \n",
              "5          TmF0dXJhbCBTd2VldGVuZXJzLyBTdWdhcg   \n",
              "13        U2NydWJzIGFuZCBjbGVhbmluZyBjbG90aHM   \n",
              "16                UGx1cyBzaXplIHdlYXIgZHJlc3M   \n",
              "...                                       ...   \n",
              "13729992  TWVucyB3b3Jrd2Vhci8gb2ZmaWNlIHdlYXI   \n",
              "13729993                             U3BpY2Vz   \n",
              "13729995                           RHJlc3Nlcw   \n",
              "13729997                          UGV0IEZvb2Q   \n",
              "13729998                              U2F1Y2U   \n",
              "\n",
              "                                     level_1                          category  \n",
              "0                            TGFwdG9wIENhc2U                   RWxlY3Ryb25pY3M  \n",
              "1         QmFraW5nIE1hdHMgLyBCYWtpbmcgZGlzaA        a2l0Y2hpbmcgYW5kIGRpbmluZw  \n",
              "5                             TW9uayBGcnVpdA                      Z3JvY2VyaWVz  \n",
              "13                                  U2NydWJz    SG91c2Vob2xkIGFuZCBDbGVhbmluZw  \n",
              "16                                   RHJlc3M  Q2xvdGhpbmcgYW5kIEFjY2Vzc29yaWVz  \n",
              "...                                      ...                               ...  \n",
              "13729992                            U2hpcnRz  Q2xvdGhpbmcgYW5kIEFjY2Vzc29yaWVz  \n",
              "13729993                            UGVwcGVy                      Z3JvY2VyaWVz  \n",
              "13729995                      TWF4aSBkcmVzcw  Q2xvdGhpbmcgYW5kIEFjY2Vzc29yaWVz  \n",
              "13729997                    RHJ5IERvZyBGb29k                  cGV0IHN1cHBsaWVz  \n",
              "13729998                        QkJRIFNhdWNl                      Z3JvY2VyaWVz  \n",
              "\n",
              "[8220000 rows x 6 columns]"
            ],
            "text/html": [
              "\n",
              "  <div id=\"df-096b654e-a587-46ba-a542-a45986cd33d8\">\n",
              "    <div class=\"colab-df-container\">\n",
              "      <div>\n",
              "<style scoped>\n",
              "    .dataframe tbody tr th:only-of-type {\n",
              "        vertical-align: middle;\n",
              "    }\n",
              "\n",
              "    .dataframe tbody tr th {\n",
              "        vertical-align: top;\n",
              "    }\n",
              "\n",
              "    .dataframe thead th {\n",
              "        text-align: right;\n",
              "    }\n",
              "</style>\n",
              "<table border=\"1\" class=\"dataframe\">\n",
              "  <thead>\n",
              "    <tr style=\"text-align: right;\">\n",
              "      <th></th>\n",
              "      <th>uuid</th>\n",
              "      <th>price_string</th>\n",
              "      <th>price_string_unf</th>\n",
              "      <th>product_type</th>\n",
              "      <th>level_1</th>\n",
              "      <th>category</th>\n",
              "    </tr>\n",
              "  </thead>\n",
              "  <tbody>\n",
              "    <tr>\n",
              "      <th>0</th>\n",
              "      <td>638744a4-b0ae-4166-8cb6-5c063c862036</td>\n",
              "      <td>NaN</td>\n",
              "      <td>NaN</td>\n",
              "      <td>TGFwdG9wIENvdmVycy9CYWdz</td>\n",
              "      <td>TGFwdG9wIENhc2U</td>\n",
              "      <td>RWxlY3Ryb25pY3M</td>\n",
              "    </tr>\n",
              "    <tr>\n",
              "      <th>1</th>\n",
              "      <td>ab313969-02cc-48b2-9daf-0054efb70b92</td>\n",
              "      <td>NaN</td>\n",
              "      <td>NaN</td>\n",
              "      <td>QmFraW5nIEN1cHMgYW5kIE1hdHM</td>\n",
              "      <td>QmFraW5nIE1hdHMgLyBCYWtpbmcgZGlzaA</td>\n",
              "      <td>a2l0Y2hpbmcgYW5kIGRpbmluZw</td>\n",
              "    </tr>\n",
              "    <tr>\n",
              "      <th>5</th>\n",
              "      <td>389d9f75-cc3f-4bd2-94f7-93e381a3bed5</td>\n",
              "      <td>NaN</td>\n",
              "      <td>NaN</td>\n",
              "      <td>TmF0dXJhbCBTd2VldGVuZXJzLyBTdWdhcg</td>\n",
              "      <td>TW9uayBGcnVpdA</td>\n",
              "      <td>Z3JvY2VyaWVz</td>\n",
              "    </tr>\n",
              "    <tr>\n",
              "      <th>13</th>\n",
              "      <td>1f2766ec-0a27-43f8-b28b-77a44492ead1</td>\n",
              "      <td>NaN</td>\n",
              "      <td>NaN</td>\n",
              "      <td>U2NydWJzIGFuZCBjbGVhbmluZyBjbG90aHM</td>\n",
              "      <td>U2NydWJz</td>\n",
              "      <td>SG91c2Vob2xkIGFuZCBDbGVhbmluZw</td>\n",
              "    </tr>\n",
              "    <tr>\n",
              "      <th>16</th>\n",
              "      <td>7bad39f5-74b9-4611-afb9-46fb135190cd</td>\n",
              "      <td>NaN</td>\n",
              "      <td>NaN</td>\n",
              "      <td>UGx1cyBzaXplIHdlYXIgZHJlc3M</td>\n",
              "      <td>RHJlc3M</td>\n",
              "      <td>Q2xvdGhpbmcgYW5kIEFjY2Vzc29yaWVz</td>\n",
              "    </tr>\n",
              "    <tr>\n",
              "      <th>...</th>\n",
              "      <td>...</td>\n",
              "      <td>...</td>\n",
              "      <td>...</td>\n",
              "      <td>...</td>\n",
              "      <td>...</td>\n",
              "      <td>...</td>\n",
              "    </tr>\n",
              "    <tr>\n",
              "      <th>13729992</th>\n",
              "      <td>8d763911-79b7-402d-8964-6bfe89692c66</td>\n",
              "      <td>NaN</td>\n",
              "      <td>NaN</td>\n",
              "      <td>TWVucyB3b3Jrd2Vhci8gb2ZmaWNlIHdlYXI</td>\n",
              "      <td>U2hpcnRz</td>\n",
              "      <td>Q2xvdGhpbmcgYW5kIEFjY2Vzc29yaWVz</td>\n",
              "    </tr>\n",
              "    <tr>\n",
              "      <th>13729993</th>\n",
              "      <td>2dc182aa-d591-49e4-85d1-5c4a60a09664</td>\n",
              "      <td>NaN</td>\n",
              "      <td>NaN</td>\n",
              "      <td>U3BpY2Vz</td>\n",
              "      <td>UGVwcGVy</td>\n",
              "      <td>Z3JvY2VyaWVz</td>\n",
              "    </tr>\n",
              "    <tr>\n",
              "      <th>13729995</th>\n",
              "      <td>2a13338e-9268-4f7b-9e7c-b8c41c72971b</td>\n",
              "      <td>NaN</td>\n",
              "      <td>NaN</td>\n",
              "      <td>RHJlc3Nlcw</td>\n",
              "      <td>TWF4aSBkcmVzcw</td>\n",
              "      <td>Q2xvdGhpbmcgYW5kIEFjY2Vzc29yaWVz</td>\n",
              "    </tr>\n",
              "    <tr>\n",
              "      <th>13729997</th>\n",
              "      <td>679f073a-862a-4e43-b5ce-41e45afd3bfa</td>\n",
              "      <td>NaN</td>\n",
              "      <td>NaN</td>\n",
              "      <td>UGV0IEZvb2Q</td>\n",
              "      <td>RHJ5IERvZyBGb29k</td>\n",
              "      <td>cGV0IHN1cHBsaWVz</td>\n",
              "    </tr>\n",
              "    <tr>\n",
              "      <th>13729998</th>\n",
              "      <td>25677eee-c26b-4abf-bd10-ca77a800ba26</td>\n",
              "      <td>NaN</td>\n",
              "      <td>NaN</td>\n",
              "      <td>U2F1Y2U</td>\n",
              "      <td>QkJRIFNhdWNl</td>\n",
              "      <td>Z3JvY2VyaWVz</td>\n",
              "    </tr>\n",
              "  </tbody>\n",
              "</table>\n",
              "<p>8220000 rows × 6 columns</p>\n",
              "</div>\n",
              "      <button class=\"colab-df-convert\" onclick=\"convertToInteractive('df-096b654e-a587-46ba-a542-a45986cd33d8')\"\n",
              "              title=\"Convert this dataframe to an interactive table.\"\n",
              "              style=\"display:none;\">\n",
              "        \n",
              "  <svg xmlns=\"http://www.w3.org/2000/svg\" height=\"24px\"viewBox=\"0 0 24 24\"\n",
              "       width=\"24px\">\n",
              "    <path d=\"M0 0h24v24H0V0z\" fill=\"none\"/>\n",
              "    <path d=\"M18.56 5.44l.94 2.06.94-2.06 2.06-.94-2.06-.94-.94-2.06-.94 2.06-2.06.94zm-11 1L8.5 8.5l.94-2.06 2.06-.94-2.06-.94L8.5 2.5l-.94 2.06-2.06.94zm10 10l.94 2.06.94-2.06 2.06-.94-2.06-.94-.94-2.06-.94 2.06-2.06.94z\"/><path d=\"M17.41 7.96l-1.37-1.37c-.4-.4-.92-.59-1.43-.59-.52 0-1.04.2-1.43.59L10.3 9.45l-7.72 7.72c-.78.78-.78 2.05 0 2.83L4 21.41c.39.39.9.59 1.41.59.51 0 1.02-.2 1.41-.59l7.78-7.78 2.81-2.81c.8-.78.8-2.07 0-2.86zM5.41 20L4 18.59l7.72-7.72 1.47 1.35L5.41 20z\"/>\n",
              "  </svg>\n",
              "      </button>\n",
              "      \n",
              "  <style>\n",
              "    .colab-df-container {\n",
              "      display:flex;\n",
              "      flex-wrap:wrap;\n",
              "      gap: 12px;\n",
              "    }\n",
              "\n",
              "    .colab-df-convert {\n",
              "      background-color: #E8F0FE;\n",
              "      border: none;\n",
              "      border-radius: 50%;\n",
              "      cursor: pointer;\n",
              "      display: none;\n",
              "      fill: #1967D2;\n",
              "      height: 32px;\n",
              "      padding: 0 0 0 0;\n",
              "      width: 32px;\n",
              "    }\n",
              "\n",
              "    .colab-df-convert:hover {\n",
              "      background-color: #E2EBFA;\n",
              "      box-shadow: 0px 1px 2px rgba(60, 64, 67, 0.3), 0px 1px 3px 1px rgba(60, 64, 67, 0.15);\n",
              "      fill: #174EA6;\n",
              "    }\n",
              "\n",
              "    [theme=dark] .colab-df-convert {\n",
              "      background-color: #3B4455;\n",
              "      fill: #D2E3FC;\n",
              "    }\n",
              "\n",
              "    [theme=dark] .colab-df-convert:hover {\n",
              "      background-color: #434B5C;\n",
              "      box-shadow: 0px 1px 3px 1px rgba(0, 0, 0, 0.15);\n",
              "      filter: drop-shadow(0px 1px 2px rgba(0, 0, 0, 0.3));\n",
              "      fill: #FFFFFF;\n",
              "    }\n",
              "  </style>\n",
              "\n",
              "      <script>\n",
              "        const buttonEl =\n",
              "          document.querySelector('#df-096b654e-a587-46ba-a542-a45986cd33d8 button.colab-df-convert');\n",
              "        buttonEl.style.display =\n",
              "          google.colab.kernel.accessAllowed ? 'block' : 'none';\n",
              "\n",
              "        async function convertToInteractive(key) {\n",
              "          const element = document.querySelector('#df-096b654e-a587-46ba-a542-a45986cd33d8');\n",
              "          const dataTable =\n",
              "            await google.colab.kernel.invokeFunction('convertToInteractive',\n",
              "                                                     [key], {});\n",
              "          if (!dataTable) return;\n",
              "\n",
              "          const docLinkHtml = 'Like what you see? Visit the ' +\n",
              "            '<a target=\"_blank\" href=https://colab.research.google.com/notebooks/data_table.ipynb>data table notebook</a>'\n",
              "            + ' to learn more about interactive tables.';\n",
              "          element.innerHTML = '';\n",
              "          dataTable['output_type'] = 'display_data';\n",
              "          await google.colab.output.renderOutput(dataTable, element);\n",
              "          const docLink = document.createElement('div');\n",
              "          docLink.innerHTML = docLinkHtml;\n",
              "          element.appendChild(docLink);\n",
              "        }\n",
              "      </script>\n",
              "    </div>\n",
              "  </div>\n",
              "  "
            ]
          },
          "metadata": {},
          "execution_count": 33
        }
      ]
    },
    {
      "cell_type": "markdown",
      "source": [
        "Count of products with and without prices."
      ],
      "metadata": {
        "id": "U2NqKzc-8pAy"
      }
    },
    {
      "cell_type": "code",
      "source": [
        "data['price_string'].isna().sum()"
      ],
      "metadata": {
        "colab": {
          "base_uri": "https://localhost:8080/"
        },
        "id": "fS2stdXX8tUh",
        "outputId": "345ee4bc-7a9f-40ea-d7a9-aac3aecd347c"
      },
      "execution_count": null,
      "outputs": [
        {
          "output_type": "execute_result",
          "data": {
            "text/plain": [
              "8220000"
            ]
          },
          "metadata": {},
          "execution_count": 34
        }
      ]
    },
    {
      "cell_type": "code",
      "source": [
        "data['price_string'].notna().sum()"
      ],
      "metadata": {
        "colab": {
          "base_uri": "https://localhost:8080/"
        },
        "id": "3653uNnj5Poj",
        "outputId": "02708dbb-6ac7-4660-b15a-d541b8a981b5"
      },
      "execution_count": null,
      "outputs": [
        {
          "output_type": "execute_result",
          "data": {
            "text/plain": [
              "5510000"
            ]
          },
          "metadata": {},
          "execution_count": 19
        }
      ]
    },
    {
      "cell_type": "markdown",
      "source": [
        "There are totally 8220000 products without prices and 5510000 with prices"
      ],
      "metadata": {
        "id": "iRzITEodshUT"
      }
    },
    {
      "cell_type": "markdown",
      "source": [
        "2. Count of products with and without price for each Product Type, Category, Level1\n",
        "\n",
        "We follow a simple technique for all the above.\n",
        "\n",
        "We first filter the rows with and without prices using notna() and isna()\n",
        "We then use groupby for each product type,category and level1 \n",
        "Finally sum() function will give the sum final desired result. "
      ],
      "metadata": {
        "id": "UUL4zKBGsmUC"
      }
    },
    {
      "cell_type": "markdown",
      "source": [
        "Products with prices in each product type\n",
        "\n"
      ],
      "metadata": {
        "id": "DqCGSQtW3Oso"
      }
    },
    {
      "cell_type": "code",
      "source": [
        "data['price_string'].notna().groupby(data['product_type']).sum()"
      ],
      "metadata": {
        "colab": {
          "base_uri": "https://localhost:8080/"
        },
        "id": "nZTGXiqcsooB",
        "outputId": "957f1b0b-9cb2-4424-bd0c-6857d76d9e87"
      },
      "execution_count": null,
      "outputs": [
        {
          "output_type": "execute_result",
          "data": {
            "text/plain": [
              "product_type\n",
              "Q0FUIExJVFRFUg                                  0\n",
              "Q29mZmVlIEJlYW5z                            30000\n",
              "Q29mZmVlIEZpbHRlcnM                             0\n",
              "Q29uZGl0aW9uZXIgSGFpcg                      10000\n",
              "Q29va2llcw                                      0\n",
              "                                            ...  \n",
              "cGV0IEJsYW5rZXQ                             10000\n",
              "cGV0IFN0YWluIGFuZCBvZG9yIGVsaW1pbmF0b3I         0\n",
              "d29tZW5zIE91dGVyd2Vhcg                     130000\n",
              "d29tZW5zIFdhbGxldA                          20000\n",
              "d29tZW5zIHN3ZWF0ZXJz                        30000\n",
              "Name: price_string, Length: 321, dtype: int64"
            ]
          },
          "metadata": {},
          "execution_count": 17
        }
      ]
    },
    {
      "cell_type": "markdown",
      "source": [
        "Products without prices in each product type"
      ],
      "metadata": {
        "id": "GS1gMff73x_j"
      }
    },
    {
      "cell_type": "code",
      "source": [
        "data['price_string'].isna().groupby(data['product_type']).sum()"
      ],
      "metadata": {
        "colab": {
          "base_uri": "https://localhost:8080/"
        },
        "id": "Hw2vBMX53zn1",
        "outputId": "d1618481-7599-4149-e2c1-c52bb5242cf6"
      },
      "execution_count": null,
      "outputs": [
        {
          "output_type": "execute_result",
          "data": {
            "text/plain": [
              "product_type\n",
              "Q0FUIExJVFRFUg                             30000\n",
              "Q29mZmVlIEJlYW5z                           50000\n",
              "Q29mZmVlIEZpbHRlcnM                        10000\n",
              "Q29uZGl0aW9uZXIgSGFpcg                     20000\n",
              "Q29va2llcw                                 30000\n",
              "                                           ...  \n",
              "cGV0IEJsYW5rZXQ                            10000\n",
              "cGV0IFN0YWluIGFuZCBvZG9yIGVsaW1pbmF0b3I    10000\n",
              "d29tZW5zIE91dGVyd2Vhcg                     20000\n",
              "d29tZW5zIFdhbGxldA                         10000\n",
              "d29tZW5zIHN3ZWF0ZXJz                       90000\n",
              "Name: price_string, Length: 321, dtype: int64"
            ]
          },
          "metadata": {},
          "execution_count": 18
        }
      ]
    },
    {
      "cell_type": "markdown",
      "source": [
        "Products with prices in each category"
      ],
      "metadata": {
        "id": "AM3-Jasz45Vd"
      }
    },
    {
      "cell_type": "code",
      "source": [
        "data['price_string'].notna().groupby(data['category']).sum()"
      ],
      "metadata": {
        "colab": {
          "base_uri": "https://localhost:8080/"
        },
        "id": "POD-4oDN5Dvj",
        "outputId": "a77d0b35-f2e9-4b52-a275-56bf3794e61b"
      },
      "execution_count": null,
      "outputs": [
        {
          "output_type": "execute_result",
          "data": {
            "text/plain": [
              "category\n",
              "Q2xvdGhpbmcgYW5kIEFjY2Vzc29yaWVz       1860000\n",
              "QXJ0IHN1cHBsaWVz                        190000\n",
              "QmFieWNhcmU                              90000\n",
              "RWxlY3Ryb25pY3M                         110000\n",
              "SG91c2Vob2xkIGFuZCBDbGVhbmluZw          700000\n",
              "SGVhbHRo                                290000\n",
              "VG95cyBhbmQgR2FtZXM                     190000\n",
              "VG9vbHMgYW5kIGhvbWUgaW1wcm92ZW1lbnQ     200000\n",
              "YmVhdXR5IGFuZCBwZXJzb25hbCBjYXJl        750000\n",
              "Z3JvY2VyaWVz                            480000\n",
              "a2l0Y2hpbmcgYW5kIGRpbmluZw              340000\n",
              "b2ZmaWNlIHByb2R1Y3Rz                    150000\n",
              "cGV0IHN1cHBsaWVz                        160000\n",
              "Name: price_string, dtype: int64"
            ]
          },
          "metadata": {},
          "execution_count": 20
        }
      ]
    },
    {
      "cell_type": "markdown",
      "source": [
        "Products without prices in each category"
      ],
      "metadata": {
        "id": "NXeWl_Xz6l64"
      }
    },
    {
      "cell_type": "code",
      "source": [
        "data['price_string'].isna().groupby(data['category']).sum()"
      ],
      "metadata": {
        "colab": {
          "base_uri": "https://localhost:8080/"
        },
        "id": "ekybPYvR6oP9",
        "outputId": "66ca9097-9cc5-455d-a80b-1bdb54ddd4c3"
      },
      "execution_count": null,
      "outputs": [
        {
          "output_type": "execute_result",
          "data": {
            "text/plain": [
              "category\n",
              "Q2xvdGhpbmcgYW5kIEFjY2Vzc29yaWVz       2050000\n",
              "QXJ0IHN1cHBsaWVz                        130000\n",
              "QmFieWNhcmU                             570000\n",
              "RWxlY3Ryb25pY3M                         210000\n",
              "SG91c2Vob2xkIGFuZCBDbGVhbmluZw          870000\n",
              "SGVhbHRo                                700000\n",
              "VG95cyBhbmQgR2FtZXM                     600000\n",
              "VG9vbHMgYW5kIGhvbWUgaW1wcm92ZW1lbnQ     320000\n",
              "YmVhdXR5IGFuZCBwZXJzb25hbCBjYXJl        720000\n",
              "Z3JvY2VyaWVz                           1130000\n",
              "a2l0Y2hpbmcgYW5kIGRpbmluZw              250000\n",
              "b2ZmaWNlIHByb2R1Y3Rz                     80000\n",
              "cGV0IHN1cHBsaWVz                        580000\n",
              "Name: price_string, dtype: int64"
            ]
          },
          "metadata": {},
          "execution_count": 23
        }
      ]
    },
    {
      "cell_type": "markdown",
      "source": [
        "Products with prices in each level_1"
      ],
      "metadata": {
        "id": "TItyUcyr7P3c"
      }
    },
    {
      "cell_type": "code",
      "source": [
        "data['price_string'].notna().groupby(data['level_1']).sum()"
      ],
      "metadata": {
        "colab": {
          "base_uri": "https://localhost:8080/"
        },
        "id": "AFeHU5CC7QFs",
        "outputId": "fa25ee38-b814-4fdf-854d-b1bc60b57852"
      },
      "execution_count": null,
      "outputs": [
        {
          "output_type": "execute_result",
          "data": {
            "text/plain": [
              "level_1\n",
              "MTAgQ3Vw              10000\n",
              "MjAgQ3Vw              10000\n",
              "MjAgUGludHM           10000\n",
              "MzAgQ3Vw              10000\n",
              "MzAtIDM1IFBpbnRz      10000\n",
              "                      ...  \n",
              "d29tZW5zIGJvb3Rz      20000\n",
              "d29tZW5zIGhlZWxz      10000\n",
              "eW9nYSBCbG9ja3M       20000\n",
              "eW9nYSBib2xzdGVycw    10000\n",
              "eW9nYSBzdHJhcHM       30000\n",
              "Name: price_string, Length: 595, dtype: int64"
            ]
          },
          "metadata": {},
          "execution_count": 25
        }
      ]
    },
    {
      "cell_type": "markdown",
      "source": [
        "Products without prices in each level_1"
      ],
      "metadata": {
        "id": "bn3BcxNc7QRz"
      }
    },
    {
      "cell_type": "code",
      "source": [
        "data['price_string'].isna().groupby(data['level_1']).sum()"
      ],
      "metadata": {
        "colab": {
          "base_uri": "https://localhost:8080/"
        },
        "id": "u7k1WGiO7QhJ",
        "outputId": "b7d58575-8322-438d-a5a8-dea63b23af21"
      },
      "execution_count": null,
      "outputs": [
        {
          "output_type": "execute_result",
          "data": {
            "text/plain": [
              "level_1\n",
              "MTAgQ3Vw                  0\n",
              "MjAgQ3Vw                  0\n",
              "MjAgUGludHM           20000\n",
              "MzAgQ3Vw                  0\n",
              "MzAtIDM1IFBpbnRz      10000\n",
              "                      ...  \n",
              "d29tZW5zIGJvb3Rz      20000\n",
              "d29tZW5zIGhlZWxz          0\n",
              "eW9nYSBCbG9ja3M       10000\n",
              "eW9nYSBib2xzdGVycw    10000\n",
              "eW9nYSBzdHJhcHM           0\n",
              "Name: price_string, Length: 595, dtype: int64"
            ]
          },
          "metadata": {},
          "execution_count": 26
        }
      ]
    },
    {
      "cell_type": "markdown",
      "source": [
        "3. Correct Format "
      ],
      "metadata": {
        "id": "NM8pBGEM7Qyh"
      }
    },
    {
      "cell_type": "markdown",
      "source": [
        "Formatting all the price to correct currency format\n",
        "\n",
        "If the price had \\$ symbol in the start, retain the value else add $ symbol."
      ],
      "metadata": {
        "id": "1JkB8BcfKFka"
      }
    },
    {
      "cell_type": "code",
      "source": [
        "def format(x):\n",
        "  x = str(x)\n",
        "  if x[0].isnumeric():\n",
        "    return \"${}\".format(x)\n",
        "  elif x=='nan':\n",
        "    return np.nan\n",
        "  else:\n",
        "    return x"
      ],
      "metadata": {
        "id": "l4UcgICh7Q-t"
      },
      "execution_count": null,
      "outputs": []
    },
    {
      "cell_type": "code",
      "source": [
        "data['price_string'] = data['price_string'].apply(format)"
      ],
      "metadata": {
        "id": "ti6vjfgqJmR5"
      },
      "execution_count": null,
      "outputs": []
    },
    {
      "cell_type": "markdown",
      "source": [
        "Now lets split them into currency and value\n",
        "\n",
        "PS : nan is retained as nan in value, currency columns"
      ],
      "metadata": {
        "id": "zc6p_YWbTh1D"
      }
    },
    {
      "cell_type": "code",
      "source": [
        "def split(x):\n",
        "  if type(x) == str and x[0] == \"$\":\n",
        "    return x.strip(\"$\")\n",
        "  else:\n",
        "    return np.nan"
      ],
      "metadata": {
        "id": "XGeXfzbHOJTy"
      },
      "execution_count": null,
      "outputs": []
    },
    {
      "cell_type": "code",
      "source": [
        "data['value'] = data['price_string'].apply(split)"
      ],
      "metadata": {
        "id": "zB7W7Wvms0-O"
      },
      "execution_count": null,
      "outputs": []
    },
    {
      "cell_type": "code",
      "source": [
        "data.value = data.value.astype('float64')"
      ],
      "metadata": {
        "id": "eQqIR_fPwSOx"
      },
      "execution_count": null,
      "outputs": []
    },
    {
      "cell_type": "code",
      "source": [
        "data['currency'] = data['price_string'].apply(lambda x: x[0] if type(x) == str else np.nan)"
      ],
      "metadata": {
        "id": "0lx9fSWntA8q"
      },
      "execution_count": null,
      "outputs": []
    },
    {
      "cell_type": "code",
      "source": [
        "data.info()"
      ],
      "metadata": {
        "colab": {
          "base_uri": "https://localhost:8080/"
        },
        "id": "1_8njHAc1GWj",
        "outputId": "e547e5b3-1c70-4eb6-8843-39719414694a"
      },
      "execution_count": null,
      "outputs": [
        {
          "output_type": "stream",
          "name": "stdout",
          "text": [
            "<class 'pandas.core.frame.DataFrame'>\n",
            "RangeIndex: 13730000 entries, 0 to 13729999\n",
            "Data columns (total 8 columns):\n",
            " #   Column            Dtype  \n",
            "---  ------            -----  \n",
            " 0   uuid              object \n",
            " 1   price_string      object \n",
            " 2   price_string_unf  object \n",
            " 3   product_type      object \n",
            " 4   level_1           object \n",
            " 5   category          object \n",
            " 6   value             float64\n",
            " 7   currency          object \n",
            "dtypes: float64(1), object(7)\n",
            "memory usage: 838.0+ MB\n"
          ]
        }
      ]
    },
    {
      "cell_type": "markdown",
      "source": [
        "4. Categories with average price of products"
      ],
      "metadata": {
        "id": "yQ06ouEkSa5R"
      }
    },
    {
      "cell_type": "code",
      "source": [
        "data.groupby('category')['value'].agg(np.mean)"
      ],
      "metadata": {
        "colab": {
          "base_uri": "https://localhost:8080/"
        },
        "id": "tBAwINozdrZs",
        "outputId": "5681c178-b09c-49d1-cc51-a166026ab106"
      },
      "execution_count": null,
      "outputs": [
        {
          "output_type": "execute_result",
          "data": {
            "text/plain": [
              "category\n",
              "Q2xvdGhpbmcgYW5kIEFjY2Vzc29yaWVz       125.413871\n",
              "QXJ0IHN1cHBsaWVz                        19.471053\n",
              "QmFieWNhcmU                            163.688889\n",
              "RWxlY3Ryb25pY3M                         60.258182\n",
              "SG91c2Vob2xkIGFuZCBDbGVhbmluZw          76.199000\n",
              "SGVhbHRo                                32.557586\n",
              "VG95cyBhbmQgR2FtZXM                     32.448947\n",
              "VG9vbHMgYW5kIGhvbWUgaW1wcm92ZW1lbnQ     82.223500\n",
              "YmVhdXR5IGFuZCBwZXJzb25hbCBjYXJl        34.745067\n",
              "Z3JvY2VyaWVz                            10.541667\n",
              "a2l0Y2hpbmcgYW5kIGRpbmluZw              16.703235\n",
              "b2ZmaWNlIHByb2R1Y3Rz                    20.480000\n",
              "cGV0IHN1cHBsaWVz                        14.181875\n",
              "Name: value, dtype: float64"
            ]
          },
          "metadata": {},
          "execution_count": 30
        }
      ]
    }
  ]
}